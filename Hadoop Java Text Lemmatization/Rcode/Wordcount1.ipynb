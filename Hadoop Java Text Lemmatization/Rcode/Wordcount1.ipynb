{
 "cells": [
  {
   "cell_type": "code",
   "execution_count": 1,
   "metadata": {
    "collapsed": false
   },
   "outputs": [
    {
     "name": "stdout",
     "output_type": "stream",
     "text": [
      "[1] \"Using direct authentication\"\n"
     ]
    }
   ],
   "source": [
    "library(twitteR)\n",
    "setup_twitter_oauth(\"eNPo01RTk8fG9aKTzFHxY5L1B\", \"8xdv6UxQTxBoSg7bQPzbjgjBG2XDZCYtnwiHkFMIWbjZ4DLFNA\", \"828809012347023362-pHzS57WGO2I0ogcH4KMhHqwL7jZmGqY\", \"lSpFFh57DMxu6BhUjFUFBPL8Y9QHcfJTMATVBqZrW7SmE\")"
   ]
  },
  {
   "cell_type": "code",
   "execution_count": 2,
   "metadata": {
    "collapsed": true
   },
   "outputs": [],
   "source": [
    "tweets <- searchTwitter('buffalobills', n=500)"
   ]
  },
  {
   "cell_type": "code",
   "execution_count": 3,
   "metadata": {
    "collapsed": false
   },
   "outputs": [],
   "source": [
    "cn = c()\n",
    "for(i in 1:400)\n",
    "{\n",
    "cn = c(cn,tweets[[i]]$text)   \n",
    "}"
   ]
  },
  {
   "cell_type": "code",
   "execution_count": 4,
   "metadata": {
    "collapsed": false
   },
   "outputs": [],
   "source": [
    "write.table(cn, \"output.txt\",quote = FALSE)"
   ]
  }
 ],
 "metadata": {
  "kernelspec": {
   "display_name": "R",
   "language": "R",
   "name": "ir"
  },
  "language_info": {
   "codemirror_mode": "r",
   "file_extension": ".r",
   "mimetype": "text/x-r-source",
   "name": "R",
   "pygments_lexer": "r",
   "version": "3.3.2"
  }
 },
 "nbformat": 4,
 "nbformat_minor": 2
}
